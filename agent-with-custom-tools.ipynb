{
 "cells": [
  {
   "cell_type": "code",
   "execution_count": 6,
   "metadata": {},
   "outputs": [],
   "source": [
    "import os\n",
    "from langchain_community.utilities.bing_search import BingSearchAPIWrapper\n",
    "from langchain.pydantic_v1 import BaseModel, Field\n",
    "from langchain.tools import tool\n",
    "from langchain_openai import AzureChatOpenAI\n",
    "from langchain_community.tools.bing_search import BingSearchRun\n",
    "# from langchain_experimental.tools import PythonREPLTool\n",
    "from langchain_core.prompts import PromptTemplate\n",
    "from langchain.agents import AgentExecutor, create_react_agent\n",
    "from langchain.vectorstores.qdrant import Qdrant\n",
    "from langchain.tools.retriever import create_retriever_tool\n",
    "from langchain_community.document_loaders.csv_loader import CSVLoader\n",
    "from langchain.agents import AgentExecutor\n",
    "from langchain_experimental.utilities import PythonREPL\n",
    "from langchain.agents import Tool\n",
    "# replace with your keys\n",
    "os.environ[\"BING_SUBSCRIPTION_KEY\"] = \"Your key\"\n",
    "os.environ[\"BING_SEARCH_URL\"] = \"https://api.bing.microsoft.com/v7.0/search\""
   ]
  },
  {
   "cell_type": "code",
   "execution_count": 3,
   "metadata": {},
   "outputs": [
    {
     "name": "stderr",
     "output_type": "stream",
     "text": [
      "No sentence-transformers model found with name C:\\Users\\a1383/.cache\\torch\\sentence_transformers\\amu_tao-8k. Creating a new one with MEAN pooling.\n"
     ]
    }
   ],
   "source": [
    "from langchain_community.embeddings import HuggingFaceBgeEmbeddings\n",
    "# Load embedding model for retriever\n",
    "\n",
    "# This chosen model is specialized for Chinese, replace it if you are using other languages\n",
    "model_name = \"amu/tao-8k\"\n",
    "model_kwargs = {\"device\": \"cuda\"} # change to cpu if your device has no cuda support\n",
    "encode_kwargs = {\"normalize_embeddings\": True}\n",
    "hf_embedding = HuggingFaceBgeEmbeddings(\n",
    "    model_name=model_name, model_kwargs=model_kwargs, encode_kwargs=encode_kwargs\n",
    ") # If you do not want to download the model everytime, add the parameter 'cache_folder' to cache the model"
   ]
  },
  {
   "cell_type": "code",
   "execution_count": 4,
   "metadata": {},
   "outputs": [],
   "source": [
    "# Define retreiver tool\n",
    "loader = CSVLoader(file_path='adcode_citycode.csv', encoding=\"UTF-8\")\n",
    "data = loader.load()\n",
    "qdrant = Qdrant.from_documents(\n",
    "    data,\n",
    "    hf_embedding,\n",
    "    location=\":memory:\",  # Local mode with in-memory storage only\n",
    "    collection_name=\"citycodes\",\n",
    ")\n",
    "retriever = qdrant.as_retriever()\n",
    "retriever_tool = create_retriever_tool(\n",
    "    retriever,\n",
    "    \"city_to_code_search\",\n",
    "    \"城市名对应的城市编码，天气查询时必须要先使用该tool获取城市名对应的编码\",\n",
    ")"
   ]
  },
  {
   "cell_type": "code",
   "execution_count": 8,
   "metadata": {},
   "outputs": [],
   "source": [
    "# Define Gaode weather search tool\n",
    "class WeatherSearchReactInput(BaseModel):\n",
    "    inputs: str = Field(description=\"执行搜素所需要的输入\")\n",
    "\n",
    "@tool(\"weather_react_search-tool\", args_schema=WeatherSearchReactInput)\n",
    "async def weather_react_search(input:str) -> str:\n",
    "    \"\"\"\n",
    "    天气查询\n",
    "    使用该tool时必须确保已经使用city_to_code_search tool获取到了对应城市编码\n",
    "    input: str 执行搜素所需要的输入, input有三个key, {'city': str 查询的城市编码, 'extensions': str 气象类型 'base':返回实况天气, 'all':返回预报天气, 'output': str 可选值：JSON,XML}.\n",
    "    其中，city为必须存在的字段。extensions的默认值为'base', output的默认值为'JSON'\n",
    "    \"\"\"\n",
    "\n",
    "    import requests\n",
    "    import ast\n",
    "    input = ast.literal_eval(input)\n",
    "    url = \"https://restapi.amap.com/v3/weather/weatherInfo?\"\n",
    "    params = {\n",
    "        \"key\": \"Your key\", # Replace with your key\n",
    "        \"city\": input.get(\"city\"),\n",
    "        \"extensions\": input.get(\"extensions\"),\n",
    "        \"output\": input.get(\"output\")\n",
    "    }\n",
    "    resp = requests.get(url, params=params).json()\n",
    "    if resp.get(\"status\") != \"1\":\n",
    "        raise Exception(\"高德天气接口请求失败\")\n",
    "    if resp.get(\"forecasts\"):\n",
    "        \n",
    "        return str(resp.get(\"forecasts\"))\n",
    "    elif resp.get(\"lives\"):\n",
    "        \n",
    "        return str(resp.get(\"lives\")[0])"
   ]
  },
  {
   "cell_type": "code",
   "execution_count": 9,
   "metadata": {},
   "outputs": [],
   "source": [
    "# Define bing search wrapper, change the mkt parameter based on your search region\n",
    "search = BingSearchAPIWrapper(search_kwargs={\"mkt\": \"zh-CN\"})"
   ]
  },
  {
   "cell_type": "code",
   "execution_count": 10,
   "metadata": {},
   "outputs": [],
   "source": [
    "# Define python repl tool for code writing\n",
    "python_repl = PythonREPL()\n",
    "repl_tool = Tool(\n",
    "    name=\"python_repl\",\n",
    "    description=\"一个Python shell。使用它来执行Python命令。输入应该是一个有效的Python命令。如果你想看到一个值的输出，你应该使用print(...)来打印它。\",\n",
    "    func=python_repl.run,\n",
    ")"
   ]
  },
  {
   "cell_type": "code",
   "execution_count": 17,
   "metadata": {},
   "outputs": [],
   "source": [
    "async def react_agent_run(query):\n",
    "    \"\"\"\n",
    "    The running function for the react agent. Change the chatLLM model as you wish.\n",
    "\n",
    "    query: str - The user input\n",
    "\n",
    "    \"\"\"\n",
    "\n",
    "    # Define the chat model, I am using azure here and all credential are set in my environment, so you need to config yours\n",
    "    azure_api_type=\"azure\"\n",
    "    azure_api_version=\"2023-08-01-preview\"\n",
    "    temperature=0\n",
    "    model = AzureChatOpenAI(\n",
    "                    openai_api_type=azure_api_type,\n",
    "                    openai_api_version=azure_api_version,\n",
    "                    model_name=\"Your deployment name\",\n",
    "                    temperature=temperature,\n",
    "                )\n",
    "    # Define the toolkit\n",
    "    tools = [weather_react_search, retriever_tool, BingSearchRun(api_wrapper=search, description=\"用来搜索实时信息，一定要以中文进行搜索\"), repl_tool]\n",
    "\n",
    "    instructions = \"\"\"\n",
    "    你是一个会合理利用不同工具来帮助用户解决问题的智能助手，来自九号AI科技公司。你必须要仔细思考整个解答过程，拆分用户不同需求，包括是否需要调用工具，调用哪些工具，如何利用工具的输出结果等。\n",
    "\n",
    "    任何关于代码的问题或者涉及到计算的问题，你都需要使用提供的python REPL工具，来编写和运行代码来帮助你回答问题。\n",
    "\n",
    "    关于使用python REPL工具的注意事项：\n",
    "\n",
    "    - 如果你遇到错误，请调试你的代码并再试一次。\n",
    "\n",
    "    - 只使用你代码的输出来回答问题。\n",
    "\n",
    "    - 你可能在不运行任何代码的情况下知道答案，但你仍应运行代码以验证你的答案。\n",
    "\n",
    "    如果没有合适的工具来帮助你获得需要的信息，则告诉用户你当前没有这个能力回答该问题。\n",
    "    \n",
    "    可用工具：\n",
    "    ------\n",
    "    你可以使用以下工具：\n",
    "    {tools}\n",
    "\n",
    "    执行Action时，应为[{tool_names}]中的其中一个。注意！这里必须只放工具名称，不要有其他内容\n",
    "\n",
    "    使用工具时，你必须需要使用以下格式：\n",
    "    ```\n",
    "    Thought: 我是否需要使用工具? Yes\n",
    "    Action: 你所选的工具名称要放在这里\n",
    "    Action Input: 执行该行动所需要的输入\n",
    "    Observation: 执行该行动所获得的结果或答案\n",
    "    ```\n",
    "\n",
    "    当你准备好向用户输出答案，或者不需要使用任何工具时，你必须使用以下格式：\n",
    "    ```\n",
    "    Thought: 我是否需要使用工具? No\n",
    "    Final Answer: [你的最终答案要放在这里]\n",
    "    ```\n",
    "\n",
    "    Begin!\n",
    "\n",
    "    以前的聊天历史：\n",
    "    {chat_history}\n",
    "\n",
    "    ------\n",
    "    New input: {input}\n",
    "    {agent_scratchpad}\n",
    "    \"\"\"\n",
    "    \n",
    "    prompt = PromptTemplate(\n",
    "        input_variables=['agent_scratchpad', 'input', 'tool_names', 'tools'],\n",
    "        template=instructions,\n",
    "        partial_variables={\"chat_history\": \"\"}\n",
    "    )\n",
    "    prompt.partial(chat_history=\"\")\n",
    "    \n",
    "    agent = create_react_agent(model, tools, prompt)\n",
    "    agent_executor = AgentExecutor(agent=agent, tools=tools, verbose=True, handle_parsing_errors=True).with_config({\"run_name\": \"Agent\"})\n",
    "    res = await agent_executor.ainvoke({\"input\": query})\n",
    "    return res\n",
    "    # The following code enabled the stream, enable if you need\n",
    "    #-----------------------------------------------------------\n",
    "    # async for event in agent_executor.astream_events(\n",
    "    #     {\"input\": query},\n",
    "    # ):\n",
    "    #     kind = event[\"event\"]\n",
    "    #     if kind == \"on_chain_start\":\n",
    "    #         if (\n",
    "    #             event[\"name\"] == \"Agent\"\n",
    "    #         ):  # Was assigned when creating the agent with `.with_config({\"run_name\": \"Agent\"})`\n",
    "    #             print(\n",
    "    #                 f\"Starting agent: {event['name']} with input: {event['data'].get('input')}\"\n",
    "    #             )\n",
    "    #     elif kind == \"on_chain_end\":\n",
    "    #         if (\n",
    "    #             event[\"name\"] == \"Agent\"\n",
    "    #         ):  # Was assigned when creating the agent with `.with_config({\"run_name\": \"Agent\"})`\n",
    "    #             print()\n",
    "    #             print(\"--\")\n",
    "    #             print(\n",
    "    #                 f\"Done agent: {event['name']} with output: {event['data'].get('output')['output']}\"\n",
    "    #             )\n",
    "    #     if kind == \"on_chat_model_stream\":\n",
    "    #         content = event[\"data\"][\"chunk\"].content\n",
    "    #         if content:\n",
    "    #             # Empty content in the context of OpenAI means\n",
    "    #             # that the model is asking for a tool to be invoked.\n",
    "    #             # So we only print non-empty content\n",
    "    #             print(content, end=\"|\")\n",
    "    #     elif kind == \"on_tool_start\":\n",
    "    #         print(\"--\")\n",
    "    #         print(\n",
    "    #             f\"Starting tool: {event['name']} with inputs: {event['data'].get('input')}\"\n",
    "    #         )\n",
    "    #     elif kind == \"on_tool_end\":\n",
    "    #         print(f\"Done tool: {event['name']}\")\n",
    "    #         print(f\"Tool output was: {event['data'].get('output')}\")\n",
    "    #         print(\"--\")\n",
    "    "
   ]
  },
  {
   "cell_type": "code",
   "execution_count": 18,
   "metadata": {},
   "outputs": [
    {
     "name": "stdout",
     "output_type": "stream",
     "text": [
      "\n",
      "\n",
      "\u001b[1m> Entering new AgentExecutor chain...\u001b[0m\n",
      "\u001b[32;1m\u001b[1;3m```\n",
      "Thought: 我是否需要使用工具? Yes\n",
      "Action: city_to_code_search\n",
      "Action Input: 南阳\u001b[0m\u001b[33;1m\u001b[1;3m[Document(page_content='\\ufeff中文名: 南阳市\\nadcode: 411300\\ncitycode: 0377', metadata={'source': 'adcode_citycode.csv', 'row': 1605}), Document(page_content='\\ufeff中文名: 汝南县\\nadcode: 411727\\ncitycode: 0396', metadata={'source': 'adcode_citycode.csv', 'row': 1659}), Document(page_content='\\ufeff中文名: 南召县\\nadcode: 411321\\ncitycode: 0377', metadata={'source': 'adcode_citycode.csv', 'row': 1608}), Document(page_content='\\ufeff中文名: 南陵县\\nadcode: 340223\\ncitycode: 0553', metadata={'source': 'adcode_citycode.csv', 'row': 1025})]\u001b[0m\u001b[32;1m\u001b[1;3mAction: weather_react_search-tool\n",
      "Action Input: {'city': '411300', 'extensions': 'base', 'output': 'JSON'}\u001b[0m\u001b[36;1m\u001b[1;3m{'province': '河南', 'city': '南阳市', 'adcode': '411300', 'weather': '霾', 'temperature': '3', 'winddirection': '东', 'windpower': '≤3', 'humidity': '64', 'reporttime': '2024-02-07 11:30:11', 'temperature_float': '3.0', 'humidity_float': '64.0'}\u001b[0m\u001b[32;1m\u001b[1;3mFinal Answer: 南阳今天的天气是霾，气温3摄氏度，湿度64%。\u001b[0m\n",
      "\n",
      "\u001b[1m> Finished chain.\u001b[0m\n"
     ]
    }
   ],
   "source": [
    "res = await react_agent_run(\"南阳今天的天气怎么样\")"
   ]
  },
  {
   "cell_type": "code",
   "execution_count": 19,
   "metadata": {},
   "outputs": [
    {
     "name": "stdout",
     "output_type": "stream",
     "text": [
      "{'input': '南阳今天的天气怎么样', 'output': '南阳今天的天气是霾，气温3摄氏度，湿度64%。'}\n"
     ]
    }
   ],
   "source": [
    "print(res)"
   ]
  },
  {
   "cell_type": "code",
   "execution_count": null,
   "metadata": {},
   "outputs": [],
   "source": []
  }
 ],
 "metadata": {
  "kernelspec": {
   "display_name": "Python 3",
   "language": "python",
   "name": "python3"
  },
  "language_info": {
   "codemirror_mode": {
    "name": "ipython",
    "version": 3
   },
   "file_extension": ".py",
   "mimetype": "text/x-python",
   "name": "python",
   "nbconvert_exporter": "python",
   "pygments_lexer": "ipython3",
   "version": "3.10.11"
  }
 },
 "nbformat": 4,
 "nbformat_minor": 2
}
